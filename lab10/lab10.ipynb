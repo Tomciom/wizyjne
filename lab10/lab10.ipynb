{
 "cells": [
  {
   "cell_type": "markdown",
   "id": "059c69a9",
   "metadata": {},
   "source": [
    "10.1"
   ]
  },
  {
   "cell_type": "code",
   "execution_count": 5,
   "id": "f620d556",
   "metadata": {},
   "outputs": [],
   "source": [
    "import cv2\n",
    "import matplotlib.pyplot as plt\n",
    "import numpy as np\n",
    "\n",
    "cap = cv2.VideoCapture('vid1_IR.avi')\n",
    "\n",
    "while cap.isOpened():\n",
    "    ret, frame = cap.read()\n",
    "    G = cv2.cvtColor(frame, cv2.COLOR_BGR2GRAY)\n",
    "    cv2.imshow('IR', G)\n",
    "    if cv2.waitKey(1) == ord('q'):\n",
    "        break\n",
    "cv2.destroyAllWindows()\n",
    "cap.release()\n"
   ]
  },
  {
   "cell_type": "code",
   "execution_count": 6,
   "id": "4ae92c41",
   "metadata": {},
   "outputs": [],
   "source": [
    "cap = cv2.VideoCapture('vid1_IR.avi')\n",
    "while cap.isOpened():\n",
    "    ret, frame = cap.read()\n",
    "    G = cv2.cvtColor(frame, cv2.COLOR_BGR2GRAY)\n",
    "    _, binary = cv2.threshold(G, 45, 255, cv2.THRESH_BINARY)\n",
    "    cv2.imshow('IR Binary', binary)\n",
    "    if cv2.waitKey(1) == ord('q'):\n",
    "        break\n",
    "cv2.destroyAllWindows()\n",
    "cap.release()"
   ]
  },
  {
   "cell_type": "code",
   "execution_count": 7,
   "id": "ad2ce1f7",
   "metadata": {},
   "outputs": [],
   "source": [
    "cap = cv2.VideoCapture('vid1_IR.avi')\n",
    "while cap.isOpened():\n",
    "    ret, frame = cap.read()\n",
    "    G = cv2.cvtColor(frame, cv2.COLOR_BGR2GRAY)\n",
    "    _, binary = cv2.threshold(G, 45, 255, cv2.THRESH_BINARY)\n",
    "    median = cv2.medianBlur(binary, 5)\n",
    "    kernel = np.ones((3, 3), np.uint8)\n",
    "    closed = cv2.morphologyEx(median, cv2.MORPH_CLOSE, kernel)\n",
    "    opening = cv2.morphologyEx(closed, cv2.MORPH_OPEN, kernel)\n",
    "    cv2.imshow('Final', opening)\n",
    "    if cv2.waitKey(1) == ord('q'):\n",
    "        break\n",
    "cv2.destroyAllWindows()\n",
    "cap.release()"
   ]
  },
  {
   "cell_type": "code",
   "execution_count": 8,
   "id": "71dfef20",
   "metadata": {},
   "outputs": [],
   "source": [
    "cap = cv2.VideoCapture('vid1_IR.avi')\n",
    "while cap.isOpened():\n",
    "    ret, frame = cap.read()\n",
    "    \n",
    "\n",
    "    G = cv2.cvtColor(frame, cv2.COLOR_BGR2GRAY)\n",
    "\n",
    "    _, binary = cv2.threshold(G, 45, 255, cv2.THRESH_BINARY)\n",
    "\n",
    "    median = cv2.medianBlur(binary, 5)\n",
    "\n",
    "    kernel = np.ones((5, 5), np.uint8)\n",
    "    closed = cv2.morphologyEx(median, cv2.MORPH_CLOSE, kernel)\n",
    "    opening = cv2.morphologyEx(closed, cv2.MORPH_OPEN, kernel)\n",
    "\n",
    "    num_labels, labels_im, stats, centroids = cv2.connectedComponentsWithStats(opening, connectivity=8)\n",
    "\n",
    "    output_colored_segments = np.zeros_like(frame)\n",
    "\n",
    "    for i in range(1, num_labels):\n",
    "        x, y, w, h, area = stats[i]\n",
    "\n",
    "        if area > 100 and h > (w * 1.3) and h > 30 and w > 30:\n",
    "            cv2.rectangle(frame, (x, y), (x + w, y + h), (255, 255, 255), 2)\n",
    "\n",
    "        output_colored_segments[labels_im == i] = np.random.randint(0, 255, size=3)\n",
    "\n",
    "    cv2.imshow('Indeksacja', frame)\n",
    "\n",
    "    if cv2.waitKey(25) == ord('q'):\n",
    "        break\n",
    "\n",
    "cap.release()\n",
    "cv2.destroyAllWindows()"
   ]
  }
 ],
 "metadata": {
  "kernelspec": {
   "display_name": "Python 3",
   "language": "python",
   "name": "python3"
  },
  "language_info": {
   "codemirror_mode": {
    "name": "ipython",
    "version": 3
   },
   "file_extension": ".py",
   "mimetype": "text/x-python",
   "name": "python",
   "nbconvert_exporter": "python",
   "pygments_lexer": "ipython3",
   "version": "3.11.9"
  }
 },
 "nbformat": 4,
 "nbformat_minor": 5
}
