{
 "cells": [
  {
   "cell_type": "code",
   "execution_count": 17,
   "metadata": {},
   "outputs": [],
   "source": [
    "import cv2\n",
    "import matplotlib.pyplot as plt\n",
    "from matplotlib.patches import Rectangle\n",
    "import numpy as np"
   ]
  },
  {
   "cell_type": "markdown",
   "metadata": {},
   "source": [
    "1.1"
   ]
  },
  {
   "cell_type": "code",
   "execution_count": 18,
   "metadata": {},
   "outputs": [],
   "source": [
    "I = cv2.imread('mandril.jpg')"
   ]
  },
  {
   "cell_type": "code",
   "execution_count": 19,
   "metadata": {},
   "outputs": [],
   "source": [
    "cv2.imshow('Mandril', I)\n",
    "cv2.waitKey(0)\n",
    "cv2.destroyAllWindows()"
   ]
  },
  {
   "cell_type": "code",
   "execution_count": null,
   "metadata": {},
   "outputs": [],
   "source": [
    "cv2.imwrite('m.png', I)"
   ]
  },
  {
   "cell_type": "code",
   "execution_count": null,
   "metadata": {},
   "outputs": [],
   "source": [
    "print (I. shape )\n",
    "print (I. size )\n",
    "print (I. dtype ) "
   ]
  },
  {
   "cell_type": "markdown",
   "metadata": {},
   "source": [
    "1.2"
   ]
  },
  {
   "cell_type": "code",
   "execution_count": 22,
   "metadata": {},
   "outputs": [],
   "source": [
    "I = plt.imread('mandril.jpg')"
   ]
  },
  {
   "cell_type": "code",
   "execution_count": null,
   "metadata": {},
   "outputs": [],
   "source": [
    "plt.figure(1)\n",
    "plt.imshow(I)\n",
    "plt.title('Mandril')\n",
    "plt.axis('off')\n",
    "plt.show()"
   ]
  },
  {
   "cell_type": "code",
   "execution_count": 24,
   "metadata": {},
   "outputs": [],
   "source": [
    "plt.imsave ('mandril.png', I)"
   ]
  },
  {
   "cell_type": "code",
   "execution_count": null,
   "metadata": {},
   "outputs": [],
   "source": [
    "x = [100, 150, 200, 250]\n",
    "y = [50, 100, 150, 200]\n",
    "plt.plot (x, y, 'r.', markersize = 10)"
   ]
  },
  {
   "cell_type": "code",
   "execution_count": null,
   "metadata": {},
   "outputs": [],
   "source": [
    "I = plt.imread('mandril.jpg')\n",
    "fig , ax = plt.subplots(1)\n",
    "plt.imshow(I)\n",
    "plt.title('Mandril')\n",
    "plt.axis('off')\n",
    "rect = Rectangle((50, 50), 50, 100, fill = False, ec ='r')\n",
    "ax.add_patch(rect)\n",
    "plt.show()\n"
   ]
  },
  {
   "cell_type": "markdown",
   "metadata": {},
   "source": [
    "1.3"
   ]
  },
  {
   "cell_type": "code",
   "execution_count": 27,
   "metadata": {},
   "outputs": [],
   "source": [
    "IG = cv2.cvtColor(I, cv2.COLOR_BGR2GRAY)\n",
    "IHSV = cv2.cvtColor(I, cv2.COLOR_BGR2HSV)"
   ]
  },
  {
   "cell_type": "code",
   "execution_count": null,
   "metadata": {},
   "outputs": [],
   "source": [
    "plt.subplots(1, 3, figsize=(15, 5))\n",
    "plt.subplot(131)\n",
    "plt.imshow(I)\n",
    "plt.title('RGB')\n",
    "plt.axis('off')\n",
    "\n",
    "plt.subplot(132)\n",
    "plt.imshow(IG, cmap='gray')\n",
    "plt.title('Gray')\n",
    "plt.axis('off')\n",
    "\n",
    "plt.subplot(133)\n",
    "plt.imshow(IHSV, cmap='hsv')\n",
    "plt.title('HSV')\n",
    "plt.axis('off')\n",
    "\n",
    "plt.show()"
   ]
  },
  {
   "cell_type": "code",
   "execution_count": 29,
   "metadata": {},
   "outputs": [],
   "source": [
    "IH = IHSV [:, :, 0]\n",
    "IS = IHSV [:, :, 1]\n",
    "IV = IHSV [:, :, 2]"
   ]
  },
  {
   "cell_type": "code",
   "execution_count": null,
   "metadata": {},
   "outputs": [],
   "source": [
    "\n",
    "plt.subplots(1, 3, figsize=(15, 5))\n",
    "plt.subplot(131)\n",
    "plt.imshow(IH, cmap='gray')\n",
    "plt.title('Hue')\n",
    "plt.axis('off')\n",
    "\n",
    "plt.subplot(132)\n",
    "plt.imshow(IS, cmap='gray')\n",
    "plt.title('Saturation')\n",
    "plt.axis('off')\n",
    "\n",
    "plt.subplot(133)\n",
    "plt.imshow(IV, cmap='gray')\n",
    "plt.title('Value')\n",
    "plt.axis('off')\n",
    "\n",
    "plt.show()"
   ]
  },
  {
   "cell_type": "markdown",
   "metadata": {},
   "source": [
    "1.4"
   ]
  },
  {
   "cell_type": "code",
   "execution_count": 31,
   "metadata": {},
   "outputs": [],
   "source": [
    "height, width = I.shape[:2]\n",
    "scale = 1.75\n",
    "Ix2 = cv2.resize(I, (int(scale * height), int(scale * width)))"
   ]
  },
  {
   "cell_type": "code",
   "execution_count": null,
   "metadata": {},
   "outputs": [],
   "source": [
    "plt.subplots(1, 2, figsize=(10, 5))\n",
    "plt.subplot(121)\n",
    "plt.imshow(I)\n",
    "plt.title('Oryginalny')\n",
    "\n",
    "plt.subplot(122)\n",
    "plt.imshow(Ix2)\n",
    "plt.title('Przeskalowany')\n",
    "\n",
    "plt.show()"
   ]
  },
  {
   "cell_type": "markdown",
   "metadata": {},
   "source": [
    "1.5"
   ]
  },
  {
   "cell_type": "code",
   "execution_count": null,
   "metadata": {},
   "outputs": [],
   "source": [
    "lena = cv2.imread('lena.png')\n",
    "mandril = cv2.imread('mandril.jpg')\n",
    "\n",
    "lenaG = cv2.cvtColor(lena, cv2.COLOR_BGR2GRAY)\n",
    "mandrilG = cv2.cvtColor(mandril, cv2.COLOR_BGR2GRAY)\n",
    "\n",
    "suma = cv2.add(lenaG.astype(float), mandrilG.astype(float))\n",
    "roznica = cv2.subtract(lenaG.astype(float), mandrilG.astype(float))\n",
    "iloczyn = cv2.multiply(lenaG.astype(float), mandrilG.astype(float))\n",
    "\n",
    "def linear_combination(alpha, img1, img2):\n",
    "    return (1 - alpha) * img1.astype(float) + alpha * img2.astype(float)\n",
    "\n",
    "kombinacja = linear_combination(0.8, lenaG, mandrilG)\n",
    "\n",
    "absdiff = cv2.absdiff(lenaG, mandrilG).astype('uint8')\n",
    "\n",
    "plt.subplots(2, 3, figsize=(15, 10))\n",
    "plt.subplot(231)\n",
    "plt.imshow(suma, cmap='gray')\n",
    "plt.title('Suma')\n",
    "plt.axis('off')\n",
    "\n",
    "plt.subplot(232)\n",
    "plt.imshow(roznica, cmap='gray')\n",
    "plt.title('Różnica')\n",
    "plt.axis('off')\n",
    "\n",
    "plt.subplot(233)\n",
    "plt.imshow(iloczyn, cmap='gray')\n",
    "plt.title('Iloczyn')\n",
    "plt.axis('off')\n",
    "\n",
    "plt.subplot(234)\n",
    "plt.imshow(kombinacja, cmap='gray')\n",
    "plt.title('Kombinacja')\n",
    "plt.axis('off')\n",
    "\n",
    "plt.subplot(235)\n",
    "plt.imshow(absdiff, cmap='gray')\n",
    "plt.title('Absolutna różnica')\n",
    "plt.axis('off')\n",
    "\n",
    "plt.subplot(236)\n",
    "plt.axis('off')\n",
    "\n",
    "plt.show()\n"
   ]
  },
  {
   "cell_type": "markdown",
   "metadata": {},
   "source": [
    "1.6"
   ]
  },
  {
   "cell_type": "code",
   "execution_count": null,
   "metadata": {},
   "outputs": [],
   "source": [
    "clahe = cv2.createCLAHE(clipLimit=2.0, tileGridSize=(8, 8))\n",
    "lenaCLAHE = clahe.apply(lenaG)\n",
    "lenaWyrownane = cv2.equalizeHist(lenaG)\n",
    "\n",
    "plt.subplots(2, 3, figsize=(15, 10))\n",
    "plt.subplot(231)\n",
    "plt.imshow(lenaG, cmap='gray')\n",
    "plt.title('Oryginalny')\n",
    "plt.axis('off')\n",
    "\n",
    "plt.subplot(232)\n",
    "plt.imshow(lenaCLAHE, cmap='gray')\n",
    "plt.title('CLAHE')\n",
    "plt.axis('off')\n",
    "\n",
    "plt.subplot(233)\n",
    "plt.imshow(lenaWyrownane, cmap='gray')\n",
    "plt.title('Wyrownane')\n",
    "plt.axis('off')\n",
    "\n",
    "plt.subplot(234)\n",
    "plt.hist(lenaG.ravel(), bins=256, range=(0, 256), alpha=0.7)\n",
    "plt.title('Histogram oryginalny')\n",
    "\n",
    "\n",
    "plt.subplot(235)\n",
    "plt.hist(lenaCLAHE.ravel(), bins=256, range=(0, 256), alpha=0.7)\n",
    "plt.title('Histogram CLAHE')\n",
    "\n",
    "plt.subplot(236)\n",
    "plt.hist(lenaWyrownane.ravel(), bins=256, range=(0, 256), alpha=0.7)\n",
    "plt.title('Histogram wyrownane')\n",
    "\n",
    "plt.show()\n",
    "\n"
   ]
  },
  {
   "cell_type": "markdown",
   "metadata": {},
   "source": [
    "1.7"
   ]
  },
  {
   "cell_type": "code",
   "execution_count": null,
   "metadata": {},
   "outputs": [],
   "source": [
    "Gausian = cv2.GaussianBlur(lenaG, (5, 5), 0)\n",
    "Sobel = cv2.Sobel(lenaG, cv2.CV_64F, 1, 1, ksize=5)\n",
    "Laplacian = cv2.Laplacian(lenaG, cv2.CV_64F)\n",
    "Median = cv2.medianBlur(lenaG, 5)\n",
    "Bilateral = cv2.bilateralFilter(lenaG, 9, 75, 75)\n",
    "Gabore = cv2.filter2D(lenaG, -1, np.array([[-1, -1, -1], [-1, 8, -1], [-1, -1, -1]]))\n",
    "Erozja = cv2.erode(lenaG, np.ones((5, 5), np.uint8), iterations=1)\n",
    "Dylacja = cv2.dilate(lenaG, np.ones((5, 5), np.uint8), iterations=1)\n",
    "Otwarcie = cv2.morphologyEx(lenaG, cv2.MORPH_OPEN, np.ones((5, 5), np.uint8))\n",
    "Zamkniecie = cv2.morphologyEx(lenaG, cv2.MORPH_CLOSE, np.ones((5, 5), np.uint8))\n",
    "\n",
    "plt.subplots(4, 3, figsize=(15, 15))\n",
    "plt.subplot(431)\n",
    "plt.imshow(Gausian, cmap='gray')\n",
    "plt.title('Gaussian')\n",
    "plt.axis('off')\n",
    "\n",
    "plt.subplot(432)\n",
    "plt.imshow(Sobel, cmap='gray')\n",
    "plt.title('Sobel')\n",
    "plt.axis('off')\n",
    "\n",
    "plt.subplot(433)\n",
    "plt.imshow(Laplacian, cmap='gray')\n",
    "plt.title('Laplacian')\n",
    "plt.axis('off')\n",
    "\n",
    "plt.subplot(434)\n",
    "plt.imshow(Median, cmap='gray')\n",
    "plt.title('Median')\n",
    "plt.axis('off')\n",
    "\n",
    "plt.subplot(435)\n",
    "plt.imshow(Bilateral, cmap='gray')\n",
    "plt.title('Bilateral')\n",
    "plt.axis('off')\n",
    "\n",
    "plt.subplot(436)\n",
    "plt.imshow(Gabore, cmap='gray')\n",
    "plt.title('Gabore')\n",
    "plt.axis('off')\n",
    "\n",
    "plt.subplot(437)\n",
    "plt.imshow(Erozja, cmap='gray')\n",
    "plt.title('Erozja')\n",
    "plt.axis('off')\n",
    "\n",
    "plt.subplot(438)\n",
    "plt.imshow(Dylacja, cmap='gray')\n",
    "plt.title('Dylacja')\n",
    "plt.axis('off')\n",
    "\n",
    "plt.subplot(439)\n",
    "plt.imshow(Otwarcie, cmap='gray')\n",
    "plt.title('Otwarcie')\n",
    "plt.axis('off')\n",
    "\n",
    "plt.subplot(4, 3, 10)\n",
    "plt.imshow(Zamkniecie, cmap='gray')\n",
    "plt.title('Zamkniecie')\n",
    "plt.axis('off')\n",
    "\n",
    "plt.subplot(4, 3, 11)\n",
    "plt.axis('off')\n",
    "\n",
    "plt.subplot(4, 3, 12)\n",
    "plt.axis('off')\n",
    "\n",
    "plt.show()\n",
    "\n",
    "\n",
    "\n"
   ]
  }
 ],
 "metadata": {
  "kernelspec": {
   "display_name": "Python 3",
   "language": "python",
   "name": "python3"
  },
  "language_info": {
   "codemirror_mode": {
    "name": "ipython",
    "version": 3
   },
   "file_extension": ".py",
   "mimetype": "text/x-python",
   "name": "python",
   "nbconvert_exporter": "python",
   "pygments_lexer": "ipython3",
   "version": "3.11.9"
  }
 },
 "nbformat": 4,
 "nbformat_minor": 2
}
