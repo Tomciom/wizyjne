{
 "cells": [
  {
   "cell_type": "code",
   "execution_count": null,
   "metadata": {
    "vscode": {
     "languageId": "plaintext"
    }
   },
   "outputs": [],
   "source": [
    "import cv2\n",
    "\n",
    "previous = 0\n",
    "\n",
    "for i in range (300 ,1100):\n",
    "    I = cv2.imread('input/in%06d.jpg' % i)\n",
    "    I_gray = cv2.cvtColor(I, cv2.COLOR_BGR2GRAY)\n",
    "    I_gray = I_gray.astype('uint8')\n",
    "    current = I_gray\n",
    "    frame = cv2.absdiff(current, previous)\n",
    "\n",
    "    T, thresh = cv2.threshold(frame,15,255,cv2.THRESH_BINARY)\n",
    "    #B = 1*(I > 10)\n",
    "\n",
    "    cv2.imshow(\"thresh\",thresh)\n",
    "    cv2.waitKey (10)\n",
    "    previous = current\n",
    "cv2.destroyAllWindows()\n",
    "\n",
    "# D -- input array\n",
    "# 10 -- threshold value\n",
    "# 255 -- maximum value to use with the THRESH_BINARY and THRESH_BINARY_INV thresholding types\n",
    "# cv2.THRESH_BINARY -- thresholding type\n",
    "# T - our threshold value\n",
    "# thresh - output image"
   ]
  }
 ],
 "metadata": {
  "language_info": {
   "name": "python"
  }
 },
 "nbformat": 4,
 "nbformat_minor": 2
}
