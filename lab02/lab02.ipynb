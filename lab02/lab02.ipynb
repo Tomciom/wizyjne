{
 "cells": [
  {
   "cell_type": "code",
   "execution_count": 3,
   "metadata": {},
   "outputs": [],
   "source": [
    "import cv2\n",
    "import pandas\n",
    "import numpy as np"
   ]
  },
  {
   "cell_type": "markdown",
   "metadata": {},
   "source": [
    "2.1"
   ]
  },
  {
   "cell_type": "code",
   "execution_count": 2,
   "metadata": {},
   "outputs": [],
   "source": [
    "for i in range(300, 1100, 2): \n",
    "    I = cv2.imread('pedestrian/input/in%06d.jpg' % i) \n",
    "    cv2.imshow(\"I\",I) \n",
    "    cv2.waitKey(10)\n",
    "cv2.destroyAllWindows()"
   ]
  },
  {
   "cell_type": "markdown",
   "metadata": {},
   "source": [
    "2.2"
   ]
  },
  {
   "cell_type": "code",
   "execution_count": null,
   "metadata": {},
   "outputs": [],
   "source": [
    "previous = 0\n",
    "\n",
    "for i in range (300 ,1100):\n",
    "    I = cv2.imread('pedestrian/input/in%06d.jpg' % i)\n",
    "    I_gray = cv2.cvtColor(I, cv2.COLOR_BGR2GRAY)\n",
    "    I_gray = I_gray.astype('uint8')\n",
    "    current = I_gray\n",
    "    frame = cv2.absdiff(current, previous)\n",
    "\n",
    "    _ , binary = cv2.threshold(frame, 25, 255, cv2.THRESH_BINARY)\n",
    "\n",
    "    median = cv2.medianBlur(binary, 3)\n",
    "    eroded = cv2.erode(median, np.ones((3,3), np.uint8))\n",
    "    dilated = cv2.dilate(eroded, np.ones((3,3), np.uint8))\n",
    "\n",
    "    cv2.imshow(\"motion detection\", dilated)\n",
    "    cv2.waitKey (10)\n",
    "    previous = current\n",
    "cv2.destroyAllWindows()\n",
    "\n"
   ]
  },
  {
   "cell_type": "markdown",
   "metadata": {},
   "source": [
    "Ćwiczenia 2.3"
   ]
  },
  {
   "cell_type": "code",
   "execution_count": null,
   "metadata": {},
   "outputs": [],
   "source": [
    "prev_gray = cv2.imread('pedestrian/input/in%06d.jpg' % 300)\n",
    "prev_gray = cv2.cvtColor(prev_gray, cv2.COLOR_BGR2GRAY).astype('int')\n",
    "\n",
    "for i in range(301, 1100):\n",
    "    current_frame = cv2.imread('pedestrian/input/in%06d.jpg' % i)\n",
    "    \n",
    "    current_gray = cv2.cvtColor(current_frame, cv2.COLOR_BGR2GRAY).astype('int')\n",
    "    \n",
    "    diff = np.abs(current_gray - prev_gray)\n",
    "    diff_uint8 = diff.astype('uint8')\n",
    "    \n",
    "    _, binary = cv2.threshold(diff_uint8, 20, 255, cv2.THRESH_BINARY)\n",
    "    \n",
    "    median_filtered = cv2.medianBlur(binary, 3)    \n",
    "    eroded = cv2.erode(median_filtered, np.ones((3, 3), np.uint8))\n",
    "    dilated = cv2.dilate(eroded, np.ones((15, 15), np.uint8))\n",
    "    \n",
    "    retval, labels, stats, centroids = cv2.connectedComponentsWithStats(dilated)\n",
    "    I_VIS = current_frame.copy().astype('uint8') # copy of the input image \n",
    "    if (stats.shape[0] > 1): # are there any objects \n",
    "        tab = stats[1:,4] # 4 columns without first element \n",
    "        pi = np.argmax( tab )# finding the index of the largest item\n",
    "        pi = pi + 1 # increment because we want the index in stats, not in tab # drawing a bbox\n",
    "        cv2.rectangle(I_VIS,(stats[pi,0],stats[pi,1]),(stats[pi,0]+stats[pi,2],stats[pi ,1]+stats[pi,3]),(255,0,0),2) # print information about the field and the number of the largest element \n",
    "        cv2.putText(I_VIS,\"%f\" % stats[pi,4],(stats[pi,0],stats[pi,1]),cv2. FONT_HERSHEY_SIMPLEX ,0.5,(255,0,0)) \n",
    "    cv2.imshow(\"Rect\", I_VIS)\n",
    "    \n",
    "    prev_gray = current_gray.copy()\n",
    "    \n",
    "    if cv2.waitKey(10) == 27:\n",
    "        break\n",
    "\n",
    "cv2.destroyAllWindows()"
   ]
  },
  {
   "cell_type": "markdown",
   "metadata": {},
   "source": [
    "Ćwiczenie 2.4"
   ]
  },
  {
   "cell_type": "code",
   "execution_count": null,
   "metadata": {},
   "outputs": [
    {
     "name": "stdout",
     "output_type": "stream",
     "text": [
      "Precision: 0.8275017557993019\n",
      "Recall: 0.8199440845166815\n",
      "F1: 0.823705584718544\n"
     ]
    }
   ],
   "source": [
    "I1 = cv2.imread('pedestrian/input/in%06d.jpg' % 300)\n",
    "I1 = cv2.cvtColor(I1, cv2.COLOR_BGR2GRAY)\n",
    "I1 = I1.astype('int')\n",
    "\n",
    "TP = 0\n",
    "TN = 0\n",
    "FP = 0\n",
    "FN = 0\n",
    "\n",
    "for i in range(301, 1100):\n",
    "    I2 = cv2.imread('pedestrian/input/in%06d.jpg' % i)\n",
    "    I2 = cv2.cvtColor(I2, cv2.COLOR_BGR2GRAY)\n",
    "    I2 = I2.astype('int')\n",
    "\n",
    "    Diff = abs(I2 - I1).astype('uint8')\n",
    "    _, binarized = cv2.threshold(Diff, 10, 255, cv2.THRESH_BINARY)\n",
    "\n",
    "    binarized = cv2.medianBlur(binarized, 7)\n",
    "    binarized = cv2.erode(binarized, np.ones((3, 3), np.uint8))\n",
    "    binarized = cv2.dilate(binarized, np.ones((3, 3), np.uint8))\n",
    "\n",
    "    grountruth = cv2.imread('pedestrian/groundtruth/gt%06d.png' % i, cv2.IMREAD_GRAYSCALE)\n",
    "\n",
    "    TP_matrix = np.logical_and((binarized > 0), (grountruth > 0))\n",
    "    TN_matrix = np.logical_and((binarized == 0), (grountruth == 0))\n",
    "    FP_matrix = np.logical_and((binarized > 0), (grountruth == 0))\n",
    "    FN_matrix = np.logical_and((binarized == 0), (grountruth > 0))\n",
    "\n",
    "    TP += TP_matrix.sum()\n",
    "    TN += TN_matrix.sum()\n",
    "    FP += FP_matrix.sum()\n",
    "    FN += FN_matrix.sum()\n",
    "\n",
    "P = TP / (TP + FP)\n",
    "R = TP / (TP + FN)\n",
    "F1 = 2 * P * R / (P + R)\n",
    "\n",
    "print('Precision:', P)\n",
    "print('Recall:', R)\n",
    "print('F1:', F1)"
   ]
  }
 ],
 "metadata": {
  "kernelspec": {
   "display_name": "Python 3",
   "language": "python",
   "name": "python3"
  },
  "language_info": {
   "codemirror_mode": {
    "name": "ipython",
    "version": 3
   },
   "file_extension": ".py",
   "mimetype": "text/x-python",
   "name": "python",
   "nbconvert_exporter": "python",
   "pygments_lexer": "ipython3",
   "version": "3.11.9"
  }
 },
 "nbformat": 4,
 "nbformat_minor": 2
}
