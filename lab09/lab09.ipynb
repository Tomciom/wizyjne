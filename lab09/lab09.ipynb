{
 "cells": [
  {
   "cell_type": "code",
   "execution_count": null,
   "id": "6d848fd6",
   "metadata": {},
   "outputs": [],
   "source": [
    "import cv2\n",
    "import numpy as np\n",
    "import matplotlib.pyplot as plt"
   ]
  },
  {
   "cell_type": "markdown",
   "id": "fb569eaf",
   "metadata": {},
   "source": [
    "9.1"
   ]
  },
  {
   "cell_type": "code",
   "execution_count": null,
   "id": "17794944",
   "metadata": {},
   "outputs": [],
   "source": [
    "trybik = cv2.imread('trybik.jpg')\n",
    "trybik_gray = cv2.cvtColor(trybik, cv2.COLOR_BGR2GRAY)\n",
    "trybik_binary = cv2.threshold(trybik_gray, 175, 255, cv2.THRESH_BINARY)[1]\n",
    "trybik_binary = cv2.medianBlur(trybik_binary, 5)\n",
    "trybik_binary = cv2.bitwise_not(trybik_binary)\n",
    "plt.imshow(trybik_binary, cmap='gray')\n",
    "plt.axis('off')\n",
    "plt.show()\n",
    "contours, hierarchy = cv2.findContours (trybik_binary, cv2.RETR_TREE, cv2.CHAIN_APPROX_NONE)\n"
   ]
  },
  {
   "cell_type": "code",
   "execution_count": null,
   "id": "f756737f",
   "metadata": {},
   "outputs": [],
   "source": [
    "trybik_copy = trybik.copy()\n",
    "trybik_contours = cv2.drawContours(trybik_copy, contours, 0, (0, 255, 0))\n",
    "plt.imshow(trybik_contours)\n",
    "plt.axis('off')\n",
    "plt.show()"
   ]
  },
  {
   "cell_type": "code",
   "execution_count": null,
   "id": "3f99cd05",
   "metadata": {},
   "outputs": [],
   "source": [
    "sobelx = cv2.Sobel(trybik_binary, cv2.CV_64F, 1, 0, ksize=5)\n",
    "sobely = cv2.Sobel(trybik_binary, cv2.CV_64F, 0, 1, ksize=5)\n",
    "\n",
    "amplitude = np.sqrt(sobelx**2 + sobely**2)\n",
    "amplitude = amplitude/np.amax(amplitude)\n",
    "\n",
    "orientation = np.rad2deg(np.arctan2(sobely, sobelx))\n",
    "orientation = orientation + 180\n",
    "\n",
    "moments = cv2.moments(trybik_binary)\n",
    "center_x = int(moments['m10'] / moments['m00'])\n",
    "center_y = int(moments['m01'] / moments['m00'])"
   ]
  },
  {
   "cell_type": "code",
   "execution_count": null,
   "id": "dd380b4a",
   "metadata": {},
   "outputs": [],
   "source": [
    "Rtable = [[] for _ in range(360)]\n",
    "\n",
    "for contour in contours[0]:\n",
    "    x = contour[0][0]\n",
    "    y = contour[0][1]\n",
    "    \n",
    "    angle = orientation[y, x] % 360\n",
    "    angle = int(angle)\n",
    "    vector = np.array([x - center_x, y - center_y])\n",
    "    length = np.sqrt(vector[0]**2 + vector[1]**2)\n",
    "    vector_orientation = np.rad2deg(np.arctan2(vector[1], vector[0]))\n",
    "    Rtable[angle].append((length, vector_orientation))"
   ]
  },
  {
   "cell_type": "code",
   "execution_count": null,
   "id": "ffe61620",
   "metadata": {},
   "outputs": [],
   "source": [
    "trybiki2 = cv2.imread('trybiki2.jpg')\n",
    "trybiki2_gray = cv2.cvtColor(trybiki2, cv2.COLOR_BGR2GRAY)\n",
    "trybiki2_binary = cv2.threshold(trybiki2_gray, 92, 255, cv2.THRESH_BINARY)[1]\n",
    "plt.imshow(trybiki2_binary, cmap='gray')\n",
    "plt.axis('off')\n",
    "plt.show()"
   ]
  },
  {
   "cell_type": "code",
   "execution_count": null,
   "id": "b97510bd",
   "metadata": {},
   "outputs": [],
   "source": [
    "sobelx2 = cv2.Sobel(trybiki2_binary, cv2.CV_64F, 1, 0, ksize=5)\n",
    "sobely2 = cv2.Sobel(trybiki2_binary, cv2.CV_64F, 0, 1, ksize=5)\n",
    "\n",
    "amplitude2 = np.sqrt(sobelx2**2 + sobely2**2)\n",
    "amplitude2 = amplitude2/np.amax(amplitude2)\n",
    "\n",
    "orientation2 = np.rad2deg(np.arctan2(sobely2, sobelx2))\n",
    "orientation2 = orientation2 + 180"
   ]
  },
  {
   "cell_type": "code",
   "execution_count": null,
   "id": "2e47696d",
   "metadata": {},
   "outputs": [],
   "source": [
    "result = np.zeros(trybiki2_binary.shape[:2], dtype=np.uint16)\n",
    "\n",
    "for x in range(amplitude2.shape[0]):\n",
    "    for y in range(amplitude2.shape[1]):\n",
    "        if amplitude2[x, y] > 0.5:\n",
    "            angle = orientation2[x, y] % 360\n",
    "            angle = angle.astype(np.uint16)\n",
    "            column = Rtable[angle]\n",
    "\n",
    "            for r, fi in column:\n",
    "                x1 = int(x + r * np.sin(np.deg2rad(fi)))\n",
    "                y1 = int(y + r * np.cos(np.deg2rad(fi)))\n",
    "                if 0 <= x1 < result.shape[0] and 0 <= y1 < result.shape[1]:\n",
    "                    result[x1, y1] += 1\n",
    "\n",
    "result_ = np.where(result.max() * 0.5 < result)\n",
    "result_"
   ]
  },
  {
   "cell_type": "code",
   "execution_count": null,
   "id": "ae9d3580",
   "metadata": {},
   "outputs": [],
   "source": [
    "plt.subplots(1,2, figsize=(10, 5))\n",
    "plt.subplot(1, 2, 1)\n",
    "plt.imshow(np.log(result + 1), 'gray')\n",
    "\n",
    "plt.subplot(1, 2, 2)\n",
    "plt.imshow(trybiki2)\n",
    "plt.show()"
   ]
  },
  {
   "cell_type": "code",
   "execution_count": null,
   "id": "467e044d",
   "metadata": {},
   "outputs": [],
   "source": [
    "for i in range(len(result_[0])):\n",
    "    cv2.circle(trybiki2, (int(result_[1][i]), int(result_[0][i])), 2, (255, 0, 0))\n",
    "    cv2.drawContours(trybiki2, contours, 0, (255, 0, 0), offset=(result_[1][i] - center_x, result_[0][i] - center_y))"
   ]
  },
  {
   "cell_type": "code",
   "execution_count": null,
   "id": "f49f7c63",
   "metadata": {},
   "outputs": [],
   "source": [
    "plt.imshow(trybiki2)\n",
    "plt.show()"
   ]
  }
 ],
 "metadata": {
  "kernelspec": {
   "display_name": "Python 3",
   "language": "python",
   "name": "python3"
  },
  "language_info": {
   "codemirror_mode": {
    "name": "ipython",
    "version": 3
   },
   "file_extension": ".py",
   "mimetype": "text/x-python",
   "name": "python",
   "nbconvert_exporter": "python",
   "pygments_lexer": "ipython3",
   "version": "3.11.9"
  }
 },
 "nbformat": 4,
 "nbformat_minor": 5
}
