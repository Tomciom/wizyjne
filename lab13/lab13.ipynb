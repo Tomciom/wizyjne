{
 "cells": [
  {
   "cell_type": "code",
   "execution_count": null,
   "id": "e18602a6",
   "metadata": {},
   "outputs": [],
   "source": [
    "import cv2\n",
    "import numpy as np\n",
    "import matplotlib.pyplot as plt"
   ]
  },
  {
   "cell_type": "markdown",
   "id": "aa990e2e",
   "metadata": {},
   "source": [
    "13.1"
   ]
  },
  {
   "cell_type": "code",
   "execution_count": null,
   "id": "85970f62",
   "metadata": {},
   "outputs": [],
   "source": [
    "file_path = \"shapes_rotation/events.txt\"\n",
    "lines = []\n",
    "try:\n",
    "    with open(file_path, \"r\") as file:\n",
    "        for line in file:\n",
    "            line = line.replace(\"\\n\", \"\").split(\" \")\n",
    "            if float(line[0]) >= 1:\n",
    "                break\n",
    "            lines.append(line)\n",
    "\n",
    "except FileNotFoundError:\n",
    "    print(f\"File {file_path} not found.\")\n",
    "except Exception as e:\n",
    "    print(f\"An error occurred: {e}\")\n",
    "\n",
    "timestamp, x, y, polarity = [], [], [], []\n",
    "\n",
    "for t, x1, y1, p in lines:\n",
    "    timestamp.append(float(t))\n",
    "    x.append(int(x1))\n",
    "    y.append(int(y1))\n",
    "    polarity.append(int(p))\n",
    "\n"
   ]
  },
  {
   "cell_type": "code",
   "execution_count": null,
   "id": "2ec20191",
   "metadata": {},
   "outputs": [],
   "source": [
    "print(\"number of events: \", len(timestamp))\n",
    "print(\"first timestamp: \", timestamp[0])\n",
    "print(\"last timestamp: \", timestamp[-1])\n",
    "print(\"max x: \", max(x))\n",
    "print(\"max y: \", max(y))\n",
    "print(\"min x: \", min(x))\n",
    "print(\"min y: \", min(y))\n",
    "\n",
    "positive_polarity = []\n",
    "negative_polarity = []\n",
    "\n",
    "for p in polarity:\n",
    "    if p == 1:\n",
    "        positive_polarity.append(p)\n",
    "    else:\n",
    "        negative_polarity.append(p)\n",
    "\n",
    "positive_polarity_nr = len(positive_polarity)\n",
    "negative_polarity_nr = len(negative_polarity)\n",
    "\n",
    "print(\"number of positive polarities: \", positive_polarity_nr)\n",
    "print(\"number of negative polarities: \", negative_polarity_nr)\n",
    "\n"
   ]
  },
  {
   "cell_type": "code",
   "execution_count": null,
   "id": "794c9f92",
   "metadata": {},
   "outputs": [],
   "source": [
    "fig = plt.figure(figsize=(12, 13))\n",
    "ax = fig.add_subplot(111, projection='3d')\n",
    "ax.scatter(x, y, timestamp, c=polarity, cmap='viridis')\n",
    "ax.set_xlabel('X axis')\n",
    "ax.set_ylabel('Y axis')\n",
    "ax.set_zlabel('Timestamp')\n",
    "ax.set_title('3D Scatter Plot of Events')\n",
    "#ax.view_init(45,45)\n",
    "plt.colorbar(ax.collections[0], label='Polarity')\n",
    "plt.show()"
   ]
  },
  {
   "cell_type": "markdown",
   "id": "b153a736",
   "metadata": {},
   "source": [
    "13.2"
   ]
  },
  {
   "cell_type": "code",
   "execution_count": null,
   "id": "977a44e7",
   "metadata": {},
   "outputs": [],
   "source": [
    "fig = plt.figure(figsize=(12, 13))\n",
    "ax = fig.add_subplot(111, projection='3d')\n",
    "ax.scatter(x[:8000], y[:8000], timestamp[:8000], c=polarity[:8000], cmap='viridis')\n",
    "ax.set_xlabel('X axis')\n",
    "ax.set_ylabel('Y axis')\n",
    "ax.set_zlabel('Timestamp')\n",
    "ax.set_title('3D Scatter Plot of Events')\n",
    "ax.view_init(270,90)\n",
    "plt.colorbar(ax.collections[0], label='Polarity')\n",
    "plt.show()\n",
    "\n",
    "img = cv2.imread(\"./shapes_rotation/images/frame_00000000.png\")\n",
    "img = cv2.cvtColor(img, cv2.COLOR_BGR2GRAY)\n",
    "plt.imshow(img, cmap='gray')\n",
    "plt.axis('off')\n",
    "plt.title('First Image Frame')\n",
    "plt.show()"
   ]
  },
  {
   "cell_type": "code",
   "execution_count": null,
   "id": "008cc63b",
   "metadata": {},
   "outputs": [],
   "source": [
    "index_05 = np.argmax(np.array(timestamp) > 0.5)\n",
    "\n",
    "fig = plt.figure(figsize=(12, 13))\n",
    "ax = fig.add_subplot(111, projection='3d')\n",
    "ax.scatter(x[index_05:], y[index_05:], timestamp[index_05:], c=polarity[index_05:], cmap='viridis')\n",
    "ax.set_xlabel('X axis')\n",
    "ax.set_ylabel('Y axis')\n",
    "ax.set_zlabel('Timestamp')\n",
    "ax.set_title('3D Scatter Plot of Events')\n",
    "#ax.view_init(270,90)\n",
    "plt.colorbar(ax.collections[0], label='Polarity')\n",
    "plt.show()\n"
   ]
  },
  {
   "cell_type": "code",
   "execution_count": null,
   "id": "287cb537",
   "metadata": {},
   "outputs": [],
   "source": [
    "#How long is the sequence used during exercise 1.1 (in seconds)?\n",
    "print(\"Time of sequence: \", (timestamp[-1] - timestamp[0]), \" seconds\")\n",
    "\n",
    "#What’s the resolution of event timestamps in microseconds?\n",
    "resolution = (timestamp[-1] - timestamp[0]) / len(timestamp)\n",
    "print(\"Average resolution of event timestamps: \", resolution * 1e6, \" microseconds\")\n",
    "\n",
    "#What does the time difference between consecutive events depend on?\n",
    "#The time difference between consecutive events depends on the speed of the object being tracked, the frame rate of the camera, and the event-based nature of the sensor.\n",
    "\n",
    "#What does positive/negative event polarity mean?\n",
    "#Positive polarity means that the event is triggered by an increase in brightness, while negative polarity means that the event is triggered by a decrease in brightness.\n",
    "\n",
    "#What is the direction of movement of objects in exercise 1.2?\n",
    "#Counter-clockwise rotation of the object.\n"
   ]
  },
  {
   "cell_type": "markdown",
   "id": "92f0aca4",
   "metadata": {},
   "source": [
    "13.3"
   ]
  },
  {
   "cell_type": "code",
   "execution_count": null,
   "id": "518ea197",
   "metadata": {},
   "outputs": [],
   "source": [
    "file_path = \"shapes_rotation/events.txt\"\n",
    "lines = []\n",
    "try:\n",
    "    with open(file_path, \"r\") as file:\n",
    "        for line in file:\n",
    "            line = line.replace(\"\\n\", \"\").split(\" \")\n",
    "            if float(line[0]) <= 1:\n",
    "                continue\n",
    "            if float(line[0]) >= 2:\n",
    "                break\n",
    "\n",
    "            lines.append(line)\n",
    "\n",
    "except FileNotFoundError:\n",
    "    print(f\"File {file_path} not found.\")\n",
    "except Exception as e:\n",
    "    print(f\"An error occurred: {e}\")\n",
    "\n",
    "timestamp, x, y, polarity = [], [], [], []\n",
    "\n",
    "for t, x1, y1, p in lines:\n",
    "    timestamp.append(float(t))\n",
    "    x.append(int(x1))\n",
    "    y.append(int(y1))\n",
    "    polarity.append(1 if int(p) == 1 else -1)\n"
   ]
  },
  {
   "cell_type": "code",
   "execution_count": null,
   "id": "6934d633",
   "metadata": {},
   "outputs": [],
   "source": [
    "def event_frame(coords, polarities, img_shape):\n",
    "    frame = np.zeros(img_shape, dtype=np.uint8) + 127\n",
    "    frame = frame.astype(np.uint8)\n",
    "\n",
    "    for i, (x, y) in enumerate(coords):\n",
    "       if polarities[i] == 1:\n",
    "           frame[y, x] = 255\n",
    "       else:\n",
    "           frame[y, x] = 0\n",
    "\n",
    "    return frame"
   ]
  },
  {
   "cell_type": "code",
   "execution_count": null,
   "id": "3b141bee",
   "metadata": {},
   "outputs": [],
   "source": [
    "tau = 0.01"
   ]
  },
  {
   "cell_type": "code",
   "execution_count": null,
   "id": "3f117fdd",
   "metadata": {},
   "outputs": [],
   "source": [
    "start_index = 0\n",
    "\n",
    "while start_index < len(timestamp):\n",
    "    temp_timestamp = []\n",
    "    temp_coords = []\n",
    "    temp_polarities = []\n",
    "\n",
    "    start_time = timestamp[start_index]\n",
    "\n",
    "    for i in range(start_index, len(timestamp)):\n",
    "        if timestamp[i] - start_time < tau:\n",
    "            temp_timestamp.append(timestamp[i])\n",
    "            temp_coords.append((x[i], y[i]))\n",
    "            temp_polarities.append(polarity[i])\n",
    "        else:\n",
    "            break\n",
    "\n",
    "    frame = event_frame(temp_coords, temp_polarities, (180, 240))\n",
    "    cv2.imshow(\"Event Frame\", frame)\n",
    "    if cv2.waitKey(0) == ord('q'):\n",
    "       cv2.destroyAllWindows()\n",
    "       break\n",
    "    start_index = i\n",
    "\n",
    "cv2.destroyAllWindows()"
   ]
  }
 ],
 "metadata": {
  "kernelspec": {
   "display_name": "Python 3",
   "language": "python",
   "name": "python3"
  },
  "language_info": {
   "codemirror_mode": {
    "name": "ipython",
    "version": 3
   },
   "file_extension": ".py",
   "mimetype": "text/x-python",
   "name": "python",
   "nbconvert_exporter": "python",
   "pygments_lexer": "ipython3",
   "version": "3.11.9"
  }
 },
 "nbformat": 4,
 "nbformat_minor": 5
}
