{
 "cells": [
  {
   "cell_type": "code",
   "execution_count": 1,
   "metadata": {},
   "outputs": [],
   "source": [
    "import os\n",
    "import cv2\n",
    "import numpy as np\n",
    "import matplotlib.pyplot as plt"
   ]
  },
  {
   "cell_type": "markdown",
   "metadata": {},
   "source": [
    "3.1"
   ]
  },
  {
   "cell_type": "code",
   "execution_count": 3,
   "metadata": {},
   "outputs": [],
   "source": [
    "N = 60\n",
    "s = cv2.imread('../lab02/pedestrian/input/in000001.jpg')\n",
    "XX, YY = s.shape[:2]\n",
    "BUF = np.zeros((XX, YY, N), np.uint8)\n",
    "iN = 0\n",
    "path, dirs, files = next(os.walk(\"../lab02/pedestrian/input/\"))\n",
    "num_samples = len(files)"
   ]
  },
  {
   "cell_type": "markdown",
   "metadata": {},
   "source": [
    "Średnia"
   ]
  },
  {
   "cell_type": "code",
   "execution_count": 4,
   "metadata": {},
   "outputs": [
    {
     "name": "stdout",
     "output_type": "stream",
     "text": [
      "Precision: 0.4673609092535244\n",
      "Recall: 0.8556367374063838\n",
      "F1: 0.604522864563739\n"
     ]
    }
   ],
   "source": [
    "\n",
    "for i in range(300, num_samples):\n",
    "    I = cv2.imread('../lab02/pedestrian/input/in' + str(i).zfill(6) + '.jpg')\n",
    "    IG = cv2.cvtColor(I, cv2.COLOR_BGR2GRAY)\n",
    "    BUF[:, :, iN] = IG\n",
    "    iN = (iN + 1) % N\n",
    "\n",
    "    mean = np.mean(BUF, axis=2).astype(np.uint8)\n",
    "    diff = cv2.absdiff(mean, IG)\n",
    "\n",
    "    T, binarized = cv2.threshold(diff, 20, 255, cv2.THRESH_BINARY)\n",
    "    \n",
    "    median_filtered = cv2.medianBlur(binarized, 5)\n",
    "    eroded = cv2.erode(median_filtered, np.ones((3, 3), np.uint8))\n",
    "    dilated = cv2.dilate(eroded, np.ones((5, 5), np.uint8))\n",
    "\n",
    "    cv2.imshow('diff', dilated)\n",
    "    cv2.waitKey(1)\n",
    "cv2.destroyAllWindows()\n",
    "TP = 0\n",
    "TN = 0\n",
    "FP = 0\n",
    "FN = 0\n",
    "\n",
    "for i in range(300, num_samples):\n",
    "    I = cv2.imread('../lab02/pedestrian/input/in' + str(i).zfill(6) + '.jpg')\n",
    "    IG = cv2.cvtColor(I, cv2.COLOR_BGR2GRAY)\n",
    "    BUF[:, :, iN] = IG\n",
    "    iN = (iN + 1) % N\n",
    "\n",
    "    mean = np.mean(BUF, axis=2).astype(np.uint8)\n",
    "    diff = cv2.absdiff(mean, IG)\n",
    "\n",
    "    T, binarized = cv2.threshold(diff, 20, 255, cv2.THRESH_BINARY)\n",
    "    \n",
    "    median_filtered = cv2.medianBlur(binarized, 5)\n",
    "    eroded = cv2.erode(median_filtered, np.ones((3, 3), np.uint8))\n",
    "    dilated = cv2.dilate(eroded, np.ones((5, 5), np.uint8))\n",
    "\n",
    "    groundtruth = cv2.imread('../lab02/pedestrian/groundtruth/gt' + str(i).zfill(6) + '.png')\n",
    "    groundtruth = cv2.cvtColor(groundtruth, cv2.COLOR_BGR2GRAY)\n",
    "\n",
    "    TP_matrix = np.logical_and((dilated > 0), (groundtruth > 0))\n",
    "    TN_matrix = np.logical_and((dilated == 0), (groundtruth == 0))\n",
    "    FP_matrix = np.logical_and((dilated > 0), (groundtruth == 0))\n",
    "    FN_matrix = np.logical_and((dilated == 0), (groundtruth > 0))\n",
    "\n",
    "    TP += TP_matrix.sum()\n",
    "    TN += TN_matrix.sum()\n",
    "    FP += FP_matrix.sum()\n",
    "    FN += FN_matrix.sum()\n",
    "\n",
    "P = TP / (TP + FP)\n",
    "R = TP / (TP + FN)\n",
    "F1 = 2 * P * R / (P + R)\n",
    "\n",
    "print('Precision:', P)\n",
    "print('Recall:', R)\n",
    "print('F1:', F1)\n"
   ]
  },
  {
   "cell_type": "markdown",
   "metadata": {},
   "source": [
    "Mediana"
   ]
  },
  {
   "cell_type": "code",
   "execution_count": 5,
   "metadata": {},
   "outputs": [
    {
     "name": "stdout",
     "output_type": "stream",
     "text": [
      "Precision: 0.9529665738648073\n",
      "Recall: 0.8724676688641839\n",
      "F1: 0.9109421810367051\n"
     ]
    }
   ],
   "source": [
    "for i in range(300, num_samples):\n",
    "    I = cv2.imread('../lab02/pedestrian/input/in' + str(i).zfill(6) + '.jpg')\n",
    "    IG = cv2.cvtColor(I, cv2.COLOR_BGR2GRAY)\n",
    "    BUF[:, :, iN] = IG\n",
    "    iN = (iN + 1) % N\n",
    "\n",
    "    median = np.median(BUF, axis=2).astype(np.uint8)\n",
    "    diff = cv2.absdiff(median, IG)\n",
    "\n",
    "    T, binarized = cv2.threshold(diff, 20, 255, cv2.THRESH_BINARY)\n",
    "    \n",
    "    median_filtered = cv2.medianBlur(binarized, 5)\n",
    "    eroded = cv2.erode(median_filtered, np.ones((3, 3), np.uint8))\n",
    "    dilated = cv2.dilate(eroded, np.ones((5, 5), np.uint8))\n",
    "\n",
    "    cv2.imshow('diff', dilated)\n",
    "    cv2.waitKey(1)\n",
    "cv2.destroyAllWindows()\n",
    "TP = 0\n",
    "TN = 0\n",
    "FP = 0\n",
    "FN = 0\n",
    "\n",
    "for i in range(300, num_samples):\n",
    "    I = cv2.imread('../lab02/pedestrian/input/in' + str(i).zfill(6) + '.jpg')\n",
    "    IG = cv2.cvtColor(I, cv2.COLOR_BGR2GRAY)\n",
    "    BUF[:, :, iN] = IG\n",
    "    iN = (iN + 1) % N\n",
    "\n",
    "    median = np.median(BUF, axis=2).astype(np.uint8)\n",
    "    diff = cv2.absdiff(median, IG)\n",
    "\n",
    "    T, binarized = cv2.threshold(diff, 20, 255, cv2.THRESH_BINARY)\n",
    "    \n",
    "    median_filtered = cv2.medianBlur(binarized, 5)\n",
    "    eroded = cv2.erode(median_filtered, np.ones((3, 3), np.uint8))\n",
    "    dilated = cv2.dilate(eroded, np.ones((5, 5), np.uint8))\n",
    "\n",
    "    groundtruth = cv2.imread('../lab02/pedestrian/groundtruth/gt' + str(i).zfill(6) + '.png')\n",
    "    groundtruth = cv2.cvtColor(groundtruth, cv2.COLOR_BGR2GRAY)\n",
    "\n",
    "    TP_matrix = np.logical_and((dilated > 0), (groundtruth > 0))\n",
    "    TN_matrix = np.logical_and((dilated == 0), (groundtruth == 0))\n",
    "    FP_matrix = np.logical_and((dilated > 0), (groundtruth == 0))\n",
    "    FN_matrix = np.logical_and((dilated == 0), (groundtruth > 0))\n",
    "\n",
    "    TP += TP_matrix.sum()\n",
    "    TN += TN_matrix.sum()\n",
    "    FP += FP_matrix.sum()\n",
    "    FN += FN_matrix.sum()\n",
    "\n",
    "P = TP / (TP + FP)\n",
    "R = TP / (TP + FN)\n",
    "F1 = 2 * P * R / (P + R)\n",
    "\n",
    "print('Precision:', P)\n",
    "print('Recall:', R)\n",
    "print('F1:', F1)"
   ]
  }
 ],
 "metadata": {
  "kernelspec": {
   "display_name": "Python 3",
   "language": "python",
   "name": "python3"
  },
  "language_info": {
   "codemirror_mode": {
    "name": "ipython",
    "version": 3
   },
   "file_extension": ".py",
   "mimetype": "text/x-python",
   "name": "python",
   "nbconvert_exporter": "python",
   "pygments_lexer": "ipython3",
   "version": "3.11.9"
  }
 },
 "nbformat": 4,
 "nbformat_minor": 2
}
